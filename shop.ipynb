{
 "cells": [
  {
   "cell_type": "code",
   "execution_count": 1,
   "metadata": {},
   "outputs": [
    {
     "name": "stderr",
     "output_type": "stream",
     "text": [
      "2023-11-17 01:01:40.816 \n",
      "  \u001b[33m\u001b[1mWarning:\u001b[0m to view this Streamlit app on a browser, run it with the following\n",
      "  command:\n",
      "\n",
      "    streamlit run /home/user/.local/lib/python3.11/site-packages/ipykernel_launcher.py [ARGUMENTS]\n"
     ]
    },
    {
     "data": {
      "text/plain": [
       "DeltaGenerator()"
      ]
     },
     "execution_count": 1,
     "metadata": {},
     "output_type": "execute_result"
    }
   ],
   "source": [
    "import streamlit as st\n",
    "import pandas as pd\n",
    "import plotly.express as px\n",
    "\n",
    "# Sample data from your job scheduling output\n",
    "data = {\n",
    "    \"Job ID\": [0, 1, 2, 3, 4] * 5,\n",
    "    \"Machine\": [\"machine 0\", \"machine 1\", \"machine 2\", \"machine 3\", \"machine 4\"] * 5,\n",
    "    \"Task\": [3, 0, 4, 1, 2, 3, 2, 1, 0, 4, 3, 0, 2, 4, 1, 2, 4, 3, 1, 0, 2, 0, 3, 1, 4],\n",
    "    \"Start\": [16, 5, 21, 8, 12, 12, 11, 4, 0, 19, 18, 0, 13, 19, 6, 17, 18, 17, 13, 19, 8, 8, 18, 4, 0],\n",
    "    \"Duration\": [5, 3, 1, 4, 4, 1, 0, 0, 4, 0, 0, 5, 4, 3, 5, 0, 2, 0, 3, 1, 2, 3, 0, 4, 1]\n",
    "}\n",
    "\n",
    "df = pd.DataFrame(data)\n",
    "\n",
    "# Adding a 'Finish' column for Gantt chart\n",
    "df['Finish'] = df['Start'] + df['Duration']\n",
    "\n",
    "# Streamlit app layout\n",
    "st.title(\"Job Scheduling Dashboard\")\n",
    "\n",
    "# Displaying key metrics\n",
    "st.subheader(\"Summary Metrics\")\n",
    "st.write(\"Number of jobs: 5\")\n",
    "st.write(\"Number of machines: 5\")\n",
    "st.write(\"Completion time: 22.0\")\n",
    "\n",
    "# Displaying the data table\n",
    "st.subheader(\"Detailed Schedule\")\n",
    "st.dataframe(df)\n",
    "\n",
    "# Creating a Gantt chart\n",
    "st.subheader(\"Gantt Chart\")\n",
    "fig = px.timeline(df, x_start=\"Start\", x_end=\"Finish\", y=\"Machine\", color=\"Job ID\", title=\"Job Schedule on Machines\")\n",
    "fig.update_yaxes(categoryorder=\"total ascending\")\n",
    "st.plotly_chart(fig)\n",
    "\n",
    "# Run this app by putting the code in a file (e.g., app.py) and running `streamlit run app.py`\n"
   ]
  },
  {
   "cell_type": "code",
   "execution_count": 2,
   "metadata": {},
   "outputs": [
    {
     "ename": "SyntaxError",
     "evalue": "invalid syntax (1296886706.py, line 1)",
     "output_type": "error",
     "traceback": [
      "\u001b[0;36m  Cell \u001b[0;32mIn[2], line 1\u001b[0;36m\u001b[0m\n\u001b[0;31m    streamlit run /home/user/.local/lib/python3.11/site-packages/ipykernel_launcher.py\u001b[0m\n\u001b[0m              ^\u001b[0m\n\u001b[0;31mSyntaxError\u001b[0m\u001b[0;31m:\u001b[0m invalid syntax\n"
     ]
    }
   ],
   "source": [
    "streamlit run /home/user/.local/lib/python3.11/site-packages/ipykernel_launcher.py"
   ]
  }
 ],
 "metadata": {
  "kernelspec": {
   "display_name": "Python 3",
   "language": "python",
   "name": "python3"
  },
  "language_info": {
   "codemirror_mode": {
    "name": "ipython",
    "version": 3
   },
   "file_extension": ".py",
   "mimetype": "text/x-python",
   "name": "python",
   "nbconvert_exporter": "python",
   "pygments_lexer": "ipython3",
   "version": "3.11.6"
  }
 },
 "nbformat": 4,
 "nbformat_minor": 2
}
